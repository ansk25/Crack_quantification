{
  "cells": [
    {
      "cell_type": "code",
      "source": [
        "from google.colab import drive\n",
        "drive.mount('/content/drive')"
      ],
      "metadata": {
        "id": "FcJLAVnfc3nn",
        "colab": {
          "base_uri": "https://localhost:8080/"
        },
        "outputId": "5f6538a4-23cd-4b3f-8108-e7aa4595b39a"
      },
      "execution_count": null,
      "outputs": [
        {
          "output_type": "stream",
          "name": "stdout",
          "text": [
            "Mounted at /content/drive\n"
          ]
        }
      ]
    },
    {
      "cell_type": "code",
      "execution_count": null,
      "metadata": {
        "id": "-k0dNaPnFk4I"
      },
      "outputs": [],
      "source": [
        "import os\n",
        "import numpy as np\n",
        "import cv2\n",
        "from glob import glob\n",
        "import tensorflow as tf\n",
        "import matplotlib.pyplot as plt\n",
        "from sklearn.model_selection import train_test_split\n",
        "\n",
        "from tensorflow.keras.layers import Conv2D, Activation, BatchNormalization\n",
        "from tensorflow.keras.layers import UpSampling2D, Input, Concatenate\n",
        "from tensorflow.keras.models import Model\n",
        "from tensorflow.keras.applications import MobileNetV2\n",
        "from tensorflow.keras.callbacks import EarlyStopping, ReduceLROnPlateau\n",
        "from tensorflow.keras.metrics import Recall, Precision\n",
        "from tensorflow.keras import backend as K"
      ]
    },
    {
      "cell_type": "code",
      "execution_count": null,
      "metadata": {
        "colab": {
          "base_uri": "https://localhost:8080/"
        },
        "id": "KRkhxKZjFk4J",
        "outputId": "4dd432b8-6f08-429f-b9d8-8ddb51e1d6e3"
      },
      "outputs": [
        {
          "output_type": "stream",
          "name": "stdout",
          "text": [
            "TensorFlow Version:  2.12.0\n"
          ]
        }
      ],
      "source": [
        "print(\"TensorFlow Version: \", tf.__version__)"
      ]
    },
    {
      "cell_type": "markdown",
      "metadata": {
        "id": "8lTCaN-0Fk4K"
      },
      "source": [
        "Seeding"
      ]
    },
    {
      "cell_type": "code",
      "execution_count": null,
      "metadata": {
        "id": "yGWCKL5CFk4K"
      },
      "outputs": [],
      "source": [
        "np.random.seed(42)\n",
        "tf.random.set_seed(42)"
      ]
    },
    {
      "cell_type": "markdown",
      "metadata": {
        "id": "3LB-WeNhFk4L"
      },
      "source": [
        "## Hyperparameters"
      ]
    },
    {
      "cell_type": "code",
      "execution_count": null,
      "metadata": {
        "id": "gZuYQBwMFk4L"
      },
      "outputs": [],
      "source": [
        "IMAGE_SIZE = 256\n",
        "EPOCHS = 30\n",
        "BATCH = 8\n",
        "LR = 1e-4\n",
        "\n",
        "PATH = \"/content/drive/MyDrive/Training_semantic_segmentation/\""
      ]
    },
    {
      "cell_type": "markdown",
      "metadata": {
        "id": "RtQ9FsPMFk4M"
      },
      "source": [
        "Reading the images and masks"
      ]
    },
    {
      "cell_type": "code",
      "execution_count": null,
      "metadata": {
        "id": "JFjfEghZFk4M"
      },
      "outputs": [],
      "source": [
        "def read_image(path):\n",
        "    path = path.decode()\n",
        "    x = cv2.imread(path, cv2.IMREAD_COLOR)\n",
        "    x = cv2.resize(x, (IMAGE_SIZE, IMAGE_SIZE))\n",
        "    x = x/255.0\n",
        "    return x\n",
        "\n",
        "def read_mask(path):\n",
        "    path = path.decode()\n",
        "    x = cv2.imread(path, cv2.IMREAD_GRAYSCALE)\n",
        "    x = cv2.resize(x, (IMAGE_SIZE, IMAGE_SIZE))\n",
        "    x = x/255.0\n",
        "    x = np.expand_dims(x, axis=-1)\n",
        "    return x"
      ]
    },
    {
      "cell_type": "markdown",
      "metadata": {
        "id": "sw69-GePFk4N"
      },
      "source": [
        "Building the tf.data pipeline for training, validation and testing dataset."
      ]
    },
    {
      "cell_type": "markdown",
      "metadata": {
        "id": "TPA0mJyhFk4P"
      },
      "source": [
        "## Metrics"
      ]
    },
    {
      "cell_type": "code",
      "execution_count": null,
      "metadata": {
        "id": "gR_f70eaFk4P"
      },
      "outputs": [],
      "source": [
        "  smooth = 1e-15\n",
        "  def dice_coef(y_true, y_pred):\n",
        "      y_true = tf.keras.layers.Flatten()(y_true)\n",
        "      y_pred = tf.keras.layers.Flatten()(y_pred)\n",
        "      intersection = tf.reduce_sum(y_true * y_pred)\n",
        "      return (2. * intersection + smooth) / (tf.reduce_sum(y_true) + tf.reduce_sum(y_pred) + smooth)\n",
        "\n",
        "  def dice_loss(y_true, y_pred):\n",
        "      return 1.0 - dice_coef(y_true, y_pred)"
      ]
    },
    {
      "cell_type": "markdown",
      "metadata": {
        "id": "c5kvr0XAFk4P"
      },
      "source": [
        "## Training"
      ]
    },
    {
      "cell_type": "code",
      "execution_count": null,
      "metadata": {
        "id": "JcPhEKhnC9IG"
      },
      "outputs": [],
      "source": [
        "new_model = tf.keras.models.load_model('/content/drive/MyDrive/segmentation_model_2-5-22', custom_objects={'dice_coef':dice_coef,'dice_loss':dice_loss})"
      ]
    },
    {
      "cell_type": "code",
      "execution_count": null,
      "metadata": {
        "id": "Y1VchR26Fk4S"
      },
      "outputs": [],
      "source": [
        "def read_image(path):\n",
        "    x = cv2.imread(path, cv2.IMREAD_COLOR)\n",
        "    x = cv2.cvtColor(x, cv2.COLOR_BGR2RGB)\n",
        "    x = cv2.resize(x, (IMAGE_SIZE, IMAGE_SIZE))\n",
        "    x = x/255.0\n",
        "    return x\n",
        "\n",
        "def read_mask(path):\n",
        "    x = cv2.imread(path, cv2.IMREAD_GRAYSCALE)\n",
        "    x = cv2.resize(x, (IMAGE_SIZE, IMAGE_SIZE))\n",
        "    x = np.expand_dims(x, axis=-1)\n",
        "    x = x/255.0\n",
        "    return x"
      ]
    },
    {
      "cell_type": "code",
      "execution_count": null,
      "metadata": {
        "id": "38S6aOWFFk4S"
      },
      "outputs": [],
      "source": [
        "def mask_parse(mask):\n",
        "    mask = np.squeeze(mask)\n",
        "    mask = [mask, mask, mask]\n",
        "    mask = np.transpose(mask, (1, 2, 0))\n",
        "    return mask"
      ]
    },
    {
      "cell_type": "code",
      "source": [
        "images = os.listdir('b')"
      ],
      "metadata": {
        "id": "TRKFINCgm5_D"
      },
      "execution_count": null,
      "outputs": []
    },
    {
      "cell_type": "code",
      "source": [
        "images"
      ],
      "metadata": {
        "colab": {
          "base_uri": "https://localhost:8080/"
        },
        "id": "uoZSXEcRbrpd",
        "outputId": "0f685ddd-ac12-4180-d958-a340f316cb0c"
      },
      "execution_count": null,
      "outputs": [
        {
          "output_type": "execute_result",
          "data": {
            "text/plain": [
              "['Screenshot 2023-07-16 at 5.45.15 PM.png']"
            ]
          },
          "metadata": {},
          "execution_count": 88
        }
      ]
    },
    {
      "cell_type": "code",
      "execution_count": null,
      "metadata": {
        "colab": {
          "base_uri": "https://localhost:8080/",
          "height": 273
        },
        "id": "2fqnErZCFk4S",
        "outputId": "00cf6c6b-07ad-4a17-dfbf-c62bd982122a",
        "scrolled": false
      },
      "outputs": [
        {
          "output_type": "stream",
          "name": "stdout",
          "text": [
            "1/1 [==============================] - 0s 77ms/step\n"
          ]
        },
        {
          "output_type": "display_data",
          "data": {
            "text/plain": [
              "<Figure size 500x500 with 1 Axes>"
            ],
            "image/png": "[encoded data removed]"
          },
          "metadata": {}
        }
      ],
      "source": [
        "for x in images: #i, (x, y) in enumerate(zip(test_x[50:100], test_y[50:100])):\n",
        "    #print(x)\n",
        "    x = read_image('./b/'+x)\n",
        "    #y = read_mask(y)\n",
        "    y_pred = new_model.predict(np.expand_dims(x, axis=0))[0] > 0.5\n",
        "    h, w, _ = x.shape\n",
        "    white_line = np.ones((h, 10, 3))\n",
        "\n",
        "    all_images = [\n",
        "        x, white_line,\n",
        "        #mask_parse(y), white_line,\n",
        "        mask_parse(y_pred)\n",
        "    ]\n",
        "    image = np.concatenate(all_images, axis=1)\n",
        "    fig = plt.figure(figsize=(5,5))\n",
        "    a = fig.add_subplot(1, 1, 1)\n",
        "    imgplot = plt.imshow(image)"
      ]
    },
    {
      "cell_type": "markdown",
      "source": [
        "Saving the segmented image"
      ],
      "metadata": {
        "id": "0mY6Hj0590i8"
      }
    },
    {
      "cell_type": "code",
      "source": [
        "import cv2\n",
        "\n",
        "for x in images:\n",
        "    x = read_image('./b/' + x)\n",
        "    y_pred = new_model.predict(np.expand_dims(x, axis=0))[0] > 0.5\n",
        "\n",
        "    predicted_image = mask_parse(y_pred)\n",
        "    predicted_image_uint8 = (predicted_image * 255).astype(np.uint8)\n",
        "\n",
        "    cv2.imwrite('/content/output1.png', predicted_image_uint8)\n"
      ],
      "metadata": {
        "colab": {
          "base_uri": "https://localhost:8080/"
        },
        "id": "Y4x8ObPOt1JB",
        "outputId": "a312b83d-6061-467b-f126-6c86a878fcbf"
      },
      "execution_count": null,
      "outputs": [
        {
          "output_type": "stream",
          "name": "stdout",
          "text": [
            "1/1 [==============================] - 0s 23ms/step\n"
          ]
        }
      ]
    },
    {
      "cell_type": "markdown",
      "source": [
        "Applying median filter to output1.png"
      ],
      "metadata": {
        "id": "0t0eQLbR93_R"
      }
    },
    {
      "cell_type": "code",
      "source": [
        "image= cv2.imread('output1.png')\n",
        "median_blurred_image = cv2.medianBlur(image, ksize=3)  # Change 'ksize' as needed\n",
        "plt.imshow(median_blurred_image, cmap='gray')\n",
        "plt.axis('off')  # Remove axes\n",
        "plt.show()\n",
        "cv2.imwrite('/content/output_median.png', median_blurred_image)"
      ],
      "metadata": {
        "colab": {
          "base_uri": "https://localhost:8080/",
          "height": 424
        },
        "id": "yheeG0x_83-9",
        "outputId": "7094da33-28b7-4943-fd2c-3a96ca05024c"
      },
      "execution_count": null,
      "outputs": [
        {
          "output_type": "display_data",
          "data": {
            "text/plain": [
              "<Figure size 640x480 with 1 Axes>"
            ],
            "image/png": "[encoded data removed]"
          },
          "metadata": {}
        },
        {
          "output_type": "execute_result",
          "data": {
            "text/plain": [
              "True"
            ]
          },
          "metadata": {},
          "execution_count": 48
        }
      ]
    },
    {
      "cell_type": "markdown",
      "source": [
        "applying closing operation on the median filtered image"
      ],
      "metadata": {
        "id": "Cmu2mR0r99lV"
      }
    },
    {
      "cell_type": "code",
      "source": [
        "from google.colab.patches import cv2_imshow\n",
        "import numpy as np\n",
        "\n",
        "# Read the segmented image\n",
        "segmented_image = median_blurred_image\n",
        "\n",
        "# Define the kernel for the closing operation\n",
        "kernel = cv2.getStructuringElement(cv2.MORPH_ELLIPSE, (13, 13))  # Adjust the kernel size as needed\n",
        "\n",
        "# Perform closing morphological operation\n",
        "closed_image = cv2.morphologyEx(segmented_image, cv2.MORPH_CLOSE, kernel)\n",
        "\n",
        "# Display the closed image\n",
        "cv2_imshow(closed_image)\n",
        "cv2.waitKey(0)\n",
        "\n",
        "# Save the closed image\n",
        "cv2.imwrite('/content/output_median_closing.png', closed_image)"
      ],
      "metadata": {
        "colab": {
          "base_uri": "https://localhost:8080/",
          "height": 291
        },
        "id": "ULLNK-ob9MKE",
        "outputId": "8a706f50-f519-40e5-b36e-904512f593a6"
      },
      "execution_count": null,
      "outputs": [
        {
          "output_type": "display_data",
          "data": {
            "text/plain": [
              "<PIL.Image.Image image mode=RGB size=256x256>"
            ],
            "image/png": "[encoded data removed]"
          },
          "metadata": {}
        },
        {
          "output_type": "execute_result",
          "data": {
            "text/plain": [
              "True"
            ]
          },
          "metadata": {},
          "execution_count": 49
        }
      ]
    },
    {
      "cell_type": "markdown",
      "source": [
        "Calculation of crack length"
      ],
      "metadata": {
        "id": "PP-FH3wL2H8K"
      }
    },
    {
      "cell_type": "code",
      "source": [
        "image = cv2.imread('output_median_closing.png', 0)  # Read the image as grayscale\n",
        "kernel = cv2.getStructuringElement(cv2.MORPH_RECT, (3,3))  # Example: 5x5 rectangular kernel\n",
        "eroded_image = cv2.erode(image, kernel, iterations=1)\n",
        "eroded_image_inverted = 255 - eroded_image\n",
        "new_image = cv2.bitwise_and(eroded_image_inverted, image)\n",
        "plt.imshow(new_image, cmap='gray')\n",
        "plt.axis('off')  # Remove axes\n",
        "plt.show()\n",
        "\n",
        "image_width_pixels = 256\n",
        "image_height_pixels = 256\n",
        "image_width_inches = 18.4\n",
        "image_height_inches = 16.5\n",
        "\n",
        "horizontal_ppi = image_width_inches/ image_width_pixels\n",
        "vertical_ppi = image_height_inches/ image_height_pixels\n",
        "\n",
        "pixels_per_inch = (horizontal_ppi + vertical_ppi)/2\n",
        "\n",
        "white_pixel_count = cv2.countNonZero(new_image)\n",
        "white_pixel_count = white_pixel_count/2\n",
        "crack_length = white_pixel_count*pixels_per_inch*2.54\n",
        "\n",
        "cv2.imwrite('/content/output_actual_crack_length.png', new_image)\n",
        "\n",
        "print('Crack length is:', crack_length)\n",
        "print('Crack pixels are:', white_pixel_count)\n"
      ],
      "metadata": {
        "colab": {
          "base_uri": "https://localhost:8080/",
          "height": 442
        },
        "id": "dQO581QMhpHK",
        "outputId": "0d896ab1-c2a9-4fa7-9d28-d3237223b76e"
      },
      "execution_count": null,
      "outputs": [
        {
          "output_type": "display_data",
          "data": {
            "text/plain": [
              "<Figure size 640x480 with 1 Axes>"
            ],
            "image/png": "[encoded data removed]"
          },
          "metadata": {}
        },
        {
          "output_type": "stream",
          "name": "stdout",
          "text": [
            "Crack length is: 58.606779296875\n",
            "Crack pixels are: 338.5\n"
          ]
        }
      ]
    },
    {
      "cell_type": "markdown",
      "source": [
        "trying to draw straight line"
      ],
      "metadata": {
        "id": "6PhMH-UC2LS-"
      }
    },
    {
      "cell_type": "code",
      "source": [
        "from scipy.spatial.distance import euclidean\n",
        "\n",
        "img = cv2.imread('/content/output_median_closing.png')\n",
        "img2 = img.copy()\n",
        "gray = cv2.cvtColor(img, cv2.COLOR_BGR2GRAY)\n",
        "th = cv2.threshold(gray, 0, 255, cv2.THRESH_BINARY_INV + cv2.THRESH_OTSU)[1]\n",
        "skeleton = cv2.ximgproc.thinning(th, None, 1)\n",
        "\n",
        "k1 = np.array(([ 0, 0,  0],\n",
        "               [-1, 1, -1],\n",
        "               [-1,-1, -1]), dtype=\"int\")\n",
        "\n",
        "k2 = np.array(([0, -1, -1],\n",
        "               [0,  1, -1],\n",
        "               [0, -1, -1]), dtype=\"int\")\n",
        "\n",
        "k3 = np.array(([-1, -1, 0],\n",
        "               [-1,  1, 0],\n",
        "               [-1, -1, 0]), dtype=\"int\")\n",
        "\n",
        "k4 = np.array(([-1, -1, -1],\n",
        "               [-1,  1, -1],\n",
        "               [ 0,  0,  0]), dtype=\"int\")\n",
        "\n",
        "o1 = cv2.morphologyEx(skeleton, cv2.MORPH_HITMISS, k1)\n",
        "o2 = cv2.morphologyEx(skeleton, cv2.MORPH_HITMISS, k2)\n",
        "o3 = cv2.morphologyEx(skeleton, cv2.MORPH_HITMISS, k3)\n",
        "o4 = cv2.morphologyEx(skeleton, cv2.MORPH_HITMISS, k4)\n",
        "out1 = o1 + o2 + o3 + o4\n",
        "\n",
        "k5 = np.array(([-1, -1, -1],\n",
        "               [-1,  1, -1],\n",
        "               [ 0, -1, -1]), dtype=\"int\")\n",
        "\n",
        "k6 = np.array(([-1, -1, -1],\n",
        "               [-1,  1, -1],\n",
        "               [-1, -1,  0]), dtype=\"int\")\n",
        "\n",
        "k7 = np.array(([-1, -1,  0],\n",
        "               [-1,  1, -1],\n",
        "               [-1, -1, -1]), dtype=\"int\")\n",
        "\n",
        "k8 = np.array(([ 0, -1, -1],\n",
        "               [-1,  1, -1],\n",
        "               [-1, -1, -1]), dtype=\"int\")\n",
        "\n",
        "o5 = cv2.morphologyEx(skeleton, cv2.MORPH_HITMISS, k5)\n",
        "o6 = cv2.morphologyEx(skeleton, cv2.MORPH_HITMISS, k6)\n",
        "o7 = cv2.morphologyEx(skeleton, cv2.MORPH_HITMISS, k7)\n",
        "o8 = cv2.morphologyEx(skeleton, cv2.MORPH_HITMISS, k8)\n",
        "out2 = o5 + o6 + o7 + o8\n",
        "\n",
        "\n",
        "out = cv2.add(out1, out2)\n",
        "pts = np.argwhere(out == 255)\n",
        "endpoints = []\n",
        "for pt in pts:\n",
        "    # img2 = cv2.circle(img2, (pt[1], pt[0]), 15, (0, 255, 0), -1)\n",
        "    # print(pt[1], pt[0])\n",
        "    endpoints.append((pt[1], pt[0]))\n",
        "\n",
        "\n",
        "# print(endpoints)\n",
        "tuples_list = endpoints\n",
        "average_1 = (tuples_list[0][0] + tuples_list[1][0]) // 2\n",
        "average_2 = (tuples_list[0][1] + tuples_list[1][1]) // 2\n",
        "\n",
        "# Create the first new tuple with averages\n",
        "new_tuple1 = (average_1, average_2)\n",
        "\n",
        "# Calculate the averages for the third and fourth tuples\n",
        "average_3 = (tuples_list[2][0] + tuples_list[3][0]) // 2\n",
        "average_4 = (tuples_list[2][1] + tuples_list[3][1]) // 2\n",
        "\n",
        "# Create the second new tuple with averages\n",
        "new_tuple2 = (average_3, average_4)\n",
        "\n",
        "# Final list containing the new tuples\n",
        "endpoints = [new_tuple1, new_tuple2]\n",
        "\n",
        "print(endpoints)\n",
        "img2 = cv2.line(img2, endpoints[0],endpoints[1], (0, 0, 255), thickness=2)\n",
        "\n",
        "# Calculate the Euclidean distance between the endpoints\n",
        "distance_pixels = euclidean(endpoints[0], endpoints[1])\n",
        "\n",
        "image_width_pixels = 256\n",
        "image_height_pixels = 256\n",
        "image_width_inches = 16.5\n",
        "image_height_inches = 18.4\n",
        "\n",
        "horizontal_ppi = image_width_inches/image_width_pixels\n",
        "vertical_ppi = image_height_inches/image_height_pixels\n",
        "\n",
        "pixels_per_inch = (horizontal_ppi + vertical_ppi) / 2\n",
        "\n",
        "# Convert distance from pixels to inches\n",
        "distance_cm_straight = distance_pixels*pixels_per_inch*2.54\n",
        "\n",
        "print(\"Distance between the circles (in cm):\", distance_cm_straight)\n",
        "\n",
        "cv2.imwrite('/content/output_crack_straight_length.png', img2)\n",
        "\n",
        "# Display the image with circles\n",
        "cv2_imshow(img2)\n",
        "cv2.waitKey(0)\n",
        "cv2.destroyAllWindows()"
      ],
      "metadata": {
        "colab": {
          "base_uri": "https://localhost:8080/",
          "height": 309
        },
        "id": "Hms1Ut8iu516",
        "outputId": "672f10d8-e63d-46f0-c4e0-21557140424c"
      },
      "execution_count": null,
      "outputs": [
        {
          "output_type": "stream",
          "name": "stdout",
          "text": [
            "[(163, 0), (135, 255)]\n",
            "Distance between the circles (in cm): 44.41522109910754\n"
          ]
        },
        {
          "output_type": "display_data",
          "data": {
            "text/plain": [
              "<PIL.Image.Image image mode=RGB size=256x256>"
            ],
            "image/png": "[encoded data removed]"
          },
          "metadata": {}
        }
      ]
    },
    {
      "cell_type": "markdown",
      "source": [
        "Percentage error"
      ],
      "metadata": {
        "id": "wrh_JsgnJ_wI"
      }
    },
    {
      "cell_type": "code",
      "source": [
        "actual_value = 69.85\n",
        "absolute_error = abs(distance_cm_straight - actual_value)\n",
        "percentage_error = (absolute_error / abs(actual_value)) * 100\n",
        "print(f\"The percentage error is: {percentage_error:.2f}%\")"
      ],
      "metadata": {
        "colab": {
          "base_uri": "https://localhost:8080/"
        },
        "id": "0FqFs1CkC7mu",
        "outputId": "012f406c-a9ea-42d8-d426-185a8310ad07"
      },
      "execution_count": null,
      "outputs": [
        {
          "output_type": "stream",
          "name": "stdout",
          "text": [
            "The percentage error is: 2.16%\n"
          ]
        }
      ]
    },
    {
      "cell_type": "markdown",
      "source": [
        "Dice coefficient"
      ],
      "metadata": {
        "id": "Zrn1h2qRMQhX"
      }
    },
    {
      "cell_type": "code",
      "source": [
        "import cv2\n",
        "\n",
        "def convert_to_grayscale(input_image_path, output_image_path):\n",
        "    # Load the input image\n",
        "    input_image = cv2.imread(input_image_path)\n",
        "\n",
        "    # Convert the image to grayscale\n",
        "    grayscale_image = cv2.cvtColor(input_image, cv2.COLOR_BGR2GRAY)\n",
        "\n",
        "    # Save the grayscale image\n",
        "    cv2.imwrite(output_image_path, grayscale_image)\n",
        "\n",
        "# Replace 'input_image_path' and 'output_image_path' with the actual file paths of the input and output images\n",
        "input_image_path = '/content/b/Screenshot 2023-07-16 at 8.30.18 PM.png'\n",
        "output_image_path = '/content/gray_scale.png'\n",
        "\n",
        "# Call the function to convert the image to grayscale\n",
        "convert_to_grayscale(input_image_path, output_image_path)\n"
      ],
      "metadata": {
        "id": "dUeLRc8eEQWc"
      },
      "execution_count": null,
      "outputs": []
    },
    {
      "cell_type": "code",
      "source": [
        "import cv2\n",
        "\n",
        "def binarize_image_threshold(input_image_path, output_image_path, threshold_value):\n",
        "    # Load the input image in grayscale\n",
        "    input_image = cv2.imread(input_image_path, cv2.IMREAD_GRAYSCALE)\n",
        "\n",
        "    # Apply thresholding\n",
        "    _, binarized_image = cv2.threshold(input_image, threshold_value, 255, cv2.THRESH_BINARY)\n",
        "\n",
        "    # Invert the colors of the binarized image\n",
        "    inverted_image = 255 - binarized_image\n",
        "\n",
        "    # Save the inverted binarized image\n",
        "    cv2.imwrite(output_image_path, inverted_image)\n",
        "\n",
        "# Replace 'input_image_path' and 'output_image_path' with the actual file paths of the input and output images\n",
        "input_image_path = '/content/gray_scale.png'\n",
        "output_image_path = '/content/masked.png'\n",
        "\n",
        "# Set the threshold value (adjust this value based on your image and desired binarization)\n",
        "threshold_value = 128\n",
        "\n",
        "# Call the function to binarize the image using thresholding and invert the colors\n",
        "binarize_image_threshold(input_image_path, output_image_path, threshold_value)\n"
      ],
      "metadata": {
        "id": "0zmJv3qbFJVT"
      },
      "execution_count": null,
      "outputs": []
    },
    {
      "cell_type": "code",
      "source": [
        "import cv2\n",
        "import numpy as np\n",
        "\n",
        "def remove_noise_from_binary_image(binarized_image_path, output_image_path, kernel_size):\n",
        "    # Load the binarized image\n",
        "    binarized_image = cv2.imread(binarized_image_path, cv2.IMREAD_GRAYSCALE)\n",
        "\n",
        "    # Define the kernel for morphological operations (structuring element)\n",
        "    kernel = np.ones((kernel_size, kernel_size), np.uint8)\n",
        "\n",
        "    # Perform closing operation to fill small gaps in the foreground (cracks) and remove small background noise\n",
        "    cleaned_image = cv2.morphologyEx(binarized_image, cv2.MORPH_CLOSE, kernel)\n",
        "\n",
        "    # Save the cleaned image\n",
        "    cv2.imwrite(output_image_path, cleaned_image)\n",
        "\n",
        "# Replace 'binarized_image_path' and 'output_image_path' with the actual file paths of the binarized image and output cleaned image\n",
        "binarized_image_path = '/content/masked.png'\n",
        "output_image_path = '/content/masked_denoised.png'\n",
        "\n",
        "# Set the kernel size for the morphological operations (adjust this value based on the level of noise to be removed)\n",
        "kernel_size = 11\n",
        "\n",
        "# Call the function to remove noise from the binarized image\n",
        "remove_noise_from_binary_image(binarized_image_path, output_image_path, kernel_size)\n"
      ],
      "metadata": {
        "id": "athdn-WYHOxk"
      },
      "execution_count": null,
      "outputs": []
    },
    {
      "cell_type": "code",
      "source": [
        "import cv2\n",
        "import numpy as np\n",
        "\n",
        "def dice_coefficient(original_image_path, segmented_image_path):\n",
        "    # Load the images\n",
        "    original_image = cv2.imread(original_image_path)\n",
        "    segmented_image = cv2.imread(segmented_image_path, cv2.IMREAD_GRAYSCALE)\n",
        "\n",
        "    # Ensure the images have the same height\n",
        "    height, width, _ = original_image.shape\n",
        "    segmented_image = cv2.resize(segmented_image, (width, height))\n",
        "\n",
        "    # Convert the images to grayscale\n",
        "    original_image_gray = cv2.cvtColor(original_image, cv2.COLOR_BGR2GRAY)\n",
        "\n",
        "    # Threshold the images to get binary images\n",
        "    _, original_binary = cv2.threshold(original_image_gray, 127, 1, cv2.THRESH_BINARY)\n",
        "    _, segmented_binary = cv2.threshold(segmented_image, 127, 1, cv2.THRESH_BINARY)\n",
        "\n",
        "    intersection = np.logical_and(original_binary, segmented_binary).sum()\n",
        "    union = original_binary.sum() + segmented_binary.sum()\n",
        "\n",
        "    dice = 2 * intersection / union\n",
        "\n",
        "    return dice\n",
        "\n",
        "# Replace 'original_image_path' and 'segmented_image_path' with the actual file paths of the images\n",
        "original_image_path = '/content/masked_denoised.png'\n",
        "segmented_image_path = '/content/output1.png'\n",
        "\n",
        "# Calculate the Dice coefficient\n",
        "dice_coeff = dice_coefficient(original_image_path, segmented_image_path)\n",
        "\n",
        "print(f\"The Dice coefficient is: {dice_coeff:.2f}\")\n"
      ],
      "metadata": {
        "colab": {
          "base_uri": "https://localhost:8080/"
        },
        "id": "kggDhaKuH6EK",
        "outputId": "4bf8610e-978b-45b8-8974-4fc28815bcd7"
      },
      "execution_count": null,
      "outputs": [
        {
          "output_type": "stream",
          "name": "stdout",
          "text": [
            "The Dice coefficient is: 0.59\n"
          ]
        }
      ]
    },
    {
      "cell_type": "markdown",
      "source": [
        "# Extras"
      ],
      "metadata": {
        "id": "aomMl5z4PNPL"
      }
    },
    {
      "cell_type": "code",
      "source": [
        "from scipy.stats import linregress\n",
        "import math\n",
        "import pandas as pd\n",
        "\n",
        "def plot1(array):\n",
        "  n,m = array.shape\n",
        "  a = []\n",
        "  b = []\n",
        "  c = []\n",
        "  d = []\n",
        "  for i in range(n):\n",
        "      for j in range(m):\n",
        "          if array[i][j] == 255:\n",
        "              a.append(i)\n",
        "              b.append(j)\n",
        "          elif array[i][j] == 2:\n",
        "              c.append(i)\n",
        "              d.append(j)\n",
        "\n",
        "  slope, intercept, r_value, p_value, std_err = linregress(a, b)\n",
        "  print('s1',slope * 180 / math.pi)\n",
        "\n",
        "  # slope, intercept, r_value, p_value, std_err = linregress(c,d)\n",
        "  # print('s1',slope * 180 / math.pi)\n",
        "\n",
        "  a = []\n",
        "  b = []\n",
        "  c = []\n",
        "  for i in range(n):\n",
        "      for j in range(m):\n",
        "          if array[i][j]:\n",
        "              a.append(-i)\n",
        "              b.append(j)\n",
        "              c.append(array[i][j])\n",
        "\n",
        "  df = pd.DataFrame()\n",
        "  df['x']=b\n",
        "  df['y']=a\n",
        "  df['class']=c\n",
        "  return df\n"
      ],
      "metadata": {
        "id": "L91Ov2xhtrC1"
      },
      "execution_count": null,
      "outputs": []
    },
    {
      "cell_type": "code",
      "source": [
        "from scipy.stats import linregress\n",
        "import math\n",
        "import pandas as pd\n",
        "\n",
        "def plot1(array):\n",
        "    n, m = array.shape\n",
        "    a = []\n",
        "    b = []\n",
        "    c = []\n",
        "    d = []\n",
        "    for i in range(n):\n",
        "        for j in range(m):\n",
        "            if array[i][j] == 255:\n",
        "                a.append(i)\n",
        "                b.append(j)\n",
        "            elif array[i][j] == 2:\n",
        "                c.append(i)\n",
        "                d.append(j)\n",
        "\n",
        "    slope, intercept, r_value, p_value, std_err = linregress(a, b)\n",
        "    print('s1', slope * 180 / math.pi)\n",
        "\n",
        "    # slope, intercept, r_value, p_value, std_err = linregress(c,d)\n",
        "    # print('s1',slope * 180 / math.pi)\n",
        "\n",
        "    a = []\n",
        "    b = []\n",
        "    c = []\n",
        "    for i in range(n):\n",
        "        for j in range(m):\n",
        "            if array[i][j]:\n",
        "                a.append(-i)\n",
        "                b.append(j)\n",
        "                c.append(array[i][j])\n",
        "\n",
        "    df = pd.DataFrame()\n",
        "    df['x'] = b\n",
        "    df['y'] = a\n",
        "    df['class'] = c\n",
        "\n",
        "    # Calculate the endpoints of the crack\n",
        "    x_start = min(df['x'])\n",
        "    x_end = max(df['x'])\n",
        "    y_start = df[df['x'] == x_start]['y'].values[0]\n",
        "    y_end = df[df['x'] == x_end]['y'].values[0]\n",
        "\n",
        "    # Fit a line between the endpoints\n",
        "    line_points = pd.DataFrame({'x': [x_start, x_end], 'y': [y_start, y_end]})\n",
        "    slope, intercept, r_value, p_value, std_err = linregress(line_points['x'], line_points['y'])\n",
        "    print('Line slope:', slope)\n",
        "\n",
        "    return df, line_points\n",
        "\n",
        "# Load the segmented image\n",
        "segmented_img = cv2.imread('/content/output_median_closing.png', cv2.IMREAD_GRAYSCALE)\n",
        "\n",
        "# Perform necessary processing to get the crack data and line points\n",
        "df, line_points = plot1(segmented_img)\n",
        "\n",
        "# Customize the plot as needed\n",
        "custom_params = {'axes.facecolor': 'black', 'axes.grid': False}\n",
        "sb.set_theme(rc=custom_params)\n",
        "\n",
        "colors = [\"#00008B\", \"w\"]\n",
        "sb.set_palette(sb.color_palette(colors))\n",
        "\n",
        "# Plot the crack and the fitted red line\n",
        "ax = sb.lmplot(x=\"x\",\n",
        "               y=\"y\",\n",
        "               hue='class',\n",
        "               ci=None,\n",
        "               data=df,\n",
        "               line_kws={\"color\": \"red\"})\n",
        "\n",
        "# Plot the red line between the endpoints\n",
        "plt.plot(line_points['x'], line_points['y'], color='red', linestyle='--')\n",
        "\n",
        "ax.figure.set_size_inches(5, 5)\n",
        "ax.set(ylim=(-256, 0))\n",
        "ax.set(xlim=(0, 255))\n",
        "\n",
        "plt.show()"
      ],
      "metadata": {
        "colab": {
          "base_uri": "https://localhost:8080/",
          "height": 542
        },
        "id": "zggWeE2va1PF",
        "outputId": "f698f0e6-ba3a-4c80-90b1-cf19193f2361"
      },
      "execution_count": null,
      "outputs": [
        {
          "output_type": "stream",
          "name": "stdout",
          "text": [
            "s1 -12.368652035503901\n",
            "Line slope: 2.418181818181818\n"
          ]
        },
        {
          "output_type": "display_data",
          "data": {
            "text/plain": [
              "<Figure size 500x500 with 1 Axes>"
            ],
            "image/png": "[encoded data removed]"
          },
          "metadata": {}
        }
      ]
    },
    {
      "cell_type": "code",
      "source": [
        "from google.colab.patches import cv2_imshow\n",
        "import cv2\n",
        "#output of semantic segmentation\n",
        "\n",
        "img = cv2.imread('/content/output.png', cv2.IMREAD_GRAYSCALE)\n",
        "Ai = np.count_nonzero(img == 255)\n",
        "print(Ai)\n",
        "print(img.shape,np.unique(img))\n",
        "size = np.size(img)\n",
        "skel = np.zeros(img.shape,np.uint8)\n",
        "element = cv2.getStructuringElement(cv2.MORPH_CROSS,(3,3))\n",
        "done = False\n",
        "while not done:\n",
        "    eroded = cv2.erode(img,element)\n",
        "    temp = cv2.dilate(eroded,element)\n",
        "    temp = cv2.subtract(img,temp)\n",
        "    skel = cv2.bitwise_or(skel,temp)\n",
        "    img = eroded.copy()\n",
        "    zeros = size - cv2.countNonZero(img)\n",
        "    if zeros == size:\n",
        "        done = True\n",
        "\n",
        "sk  = cv2.cvtColor(skel,cv2.COLOR_GRAY2RGB)\n",
        "#cv2_imshow(sk)\n",
        "Li = np.count_nonzero(sk== 255)\n",
        "Wi = Ai/Li\n",
        "image_length_in = 18.4  # Example: Width of the image in centimeters\n",
        "image_length_pixels = 256  # Width of the image in pixels\n",
        "\n",
        "pixels_to_in = image_length_in / image_length_pixels\n",
        "print(f'Length {pixels_to_in*Li}, Width{Wi}')\n",
        "df = plot1(skel)"
      ],
      "metadata": {
        "id": "T08SnApcuRXX",
        "colab": {
          "base_uri": "https://localhost:8080/"
        },
        "outputId": "0ed54ac3-818e-4d58-9805-9dfa8f77dbc7"
      },
      "execution_count": null,
      "outputs": [
        {
          "output_type": "stream",
          "name": "stdout",
          "text": [
            "1020\n",
            "(256, 256) [  0 255]\n",
            "Length 76.76249999999999, Width0.9550561797752809\n",
            "s1 -12.255212946755913\n",
            "Line slope: 2.509433962264151\n"
          ]
        }
      ]
    },
    {
      "cell_type": "code",
      "source": [
        "import seaborn as sb\n",
        "custom_params = {'axes.facecolor':'black','axes.grid' : False}\n",
        "sb.set_theme(rc=custom_params)\n",
        "\n",
        "colors = [\"#00008B\", \"w\"]\n",
        "sb.set_palette(sb.color_palette(colors))\n",
        "ax=sb.lmplot(x = \"x\",\n",
        "            y = \"y\",\n",
        "            hue='class',\n",
        "            ci = None,\n",
        "            data = df,\n",
        "            line_kws={\"color\": \"red\"})\n",
        "\n",
        "ax.figure.set_size_inches(5,5)\n",
        "# print(ax.get_lines())\n",
        "ax.set(ylim=(-256,0))\n",
        "ax.set(xlim=(0,255))\n",
        "plt.show()"
      ],
      "metadata": {
        "id": "XzfIeSZvznoi",
        "colab": {
          "base_uri": "https://localhost:8080/",
          "height": 506
        },
        "outputId": "2970c897-8556-4da6-c44c-038cadcab29b"
      },
      "execution_count": null,
      "outputs": [
        {
          "output_type": "display_data",
          "data": {
            "text/plain": [
              "<Figure size 500x500 with 1 Axes>"
            ],
            "image/png": "[encoded data removed]"
          },
          "metadata": {}
        }
      ]
    },
    {
      "cell_type": "code",
      "source": [
        "import cv2\n",
        "import numpy as np\n",
        "from scipy.stats import linregress\n",
        "import math\n",
        "import matplotlib.pyplot as plt\n",
        "\n",
        "def find_endpoints(segmented_img):\n",
        "    # Find the coordinates of the crack points\n",
        "    crack_points = np.where(segmented_img == 255)\n",
        "    x = crack_points[1]\n",
        "    y = -crack_points[0]  # Reverse the y-axis for plotting\n",
        "\n",
        "    # Find the endpoints of the crack\n",
        "    x_min, x_max = x.min(), x.max()\n",
        "    y_min, y_max = y.min(), y.max()\n",
        "\n",
        "    return (x_min, y_min), (x_max, y_max)\n",
        "\n",
        "def draw_line_on_crack(segmented_img_path):\n",
        "    # Load the segmented image\n",
        "    segmented_img = cv2.imread(segmented_img_path, cv2.IMREAD_GRAYSCALE)\n",
        "\n",
        "    # Find the endpoints of the crack\n",
        "    start_point, end_point = find_endpoints(segmented_img)\n",
        "\n",
        "    # Draw a red line on the crack image between the endpoints\n",
        "    line_color = (0, 0, 255)  # Red color\n",
        "    line_thickness = 2\n",
        "    crack_img_with_line = cv2.cvtColor(segmented_img, cv2.COLOR_GRAY2BGR)\n",
        "    cv2.line(crack_img_with_line, start_point, end_point, line_color, line_thickness)\n",
        "\n",
        "    # Calculate the length of the crack\n",
        "    crack_length_pixels = np.sqrt((end_point[0] - start_point[0]) ** 2 + (end_point[1] - start_point[1]) ** 2)\n",
        "\n",
        "    image_width_pixels = 256\n",
        "    image_height_pixels = 256\n",
        "    image_width_inches = 27\n",
        "    image_height_inches = 27\n",
        "\n",
        "    horizontal_ppi = image_width_inches/ image_width_pixels\n",
        "    vertical_ppi = image_height_inches/ image_height_pixels\n",
        "\n",
        "    pixels_per_inch = (horizontal_ppi + vertical_ppi)/2\n",
        "\n",
        "    # Convert crack length from pixels to inches\n",
        "    crack_length_inches = crack_length_pixels * pixels_per_inch\n",
        "\n",
        "    # Save the image with the red line\n",
        "    output_img_path = '/content/line_length.png'\n",
        "    cv2.imwrite(output_img_path, crack_img_with_line)\n",
        "\n",
        "    return crack_length_inches, output_img_path\n",
        "\n",
        "def display_image_with_line(image_path, start_point, end_point):\n",
        "    # Load the image\n",
        "    img = cv2.imread(image_path, cv2.IMREAD_COLOR)\n",
        "\n",
        "    # Draw the red line on the image\n",
        "    line_color = (0, 0, 255)  # Red color\n",
        "    line_thickness = 2\n",
        "    cv2.line(img, start_point, end_point, line_color, line_thickness)\n",
        "\n",
        "    # Display the image with the red line\n",
        "    plt.imshow(cv2.cvtColor(img, cv2.COLOR_BGR2RGB))\n",
        "    plt.axis('off')\n",
        "    plt.show()\n",
        "\n",
        "# Example usage\n",
        "segmented_img_path = '/content/output_median_closing.png'\n",
        "crack_length, output_img_path = draw_line_on_crack(segmented_img_path)\n",
        "print(\"Crack Length (in inches):\", crack_length)\n",
        "print(\"Image with Red Line saved at:\", output_img_path)\n",
        "\n",
        "# Display the image with the red line\n",
        "start_point, end_point = find_endpoints(cv2.imread(segmented_img_path, cv2.IMREAD_GRAYSCALE))\n",
        "display_image_with_line(output_img_path, start_point, end_point)\n"
      ],
      "metadata": {
        "colab": {
          "base_uri": "https://localhost:8080/",
          "height": 442
        },
        "id": "pdxZ6-dFkOun",
        "outputId": "d5f4e1e8-17be-414b-c70f-1a6c9b35d71e"
      },
      "execution_count": null,
      "outputs": [
        {
          "output_type": "stream",
          "name": "stdout",
          "text": [
            "Crack Length (in inches): 28.18700440641443\n",
            "Image with Red Line saved at: /content/line_length.png\n"
          ]
        },
        {
          "output_type": "display_data",
          "data": {
            "text/plain": [
              "<Figure size 640x480 with 1 Axes>"
            ],
            "image/png": "[encoded data removed]"
          },
          "metadata": {}
        }
      ]
    },
    {
      "cell_type": "code",
      "source": [
        "from scipy.spatial.distance import euclidean\n",
        "\n",
        "img = cv2.imread('/content/output_median_closing.png')\n",
        "img2 = img.copy()\n",
        "gray = cv2.cvtColor(img, cv2.COLOR_BGR2GRAY)\n",
        "th = cv2.threshold(gray, 0, 255, cv2.THRESH_BINARY_INV + cv2.THRESH_OTSU)[1]\n",
        "skeleton = cv2.ximgproc.thinning(th, None, 1)\n",
        "\n",
        "k1 = np.array(([ 0, 0,  0],\n",
        "               [-1, 1, -1],\n",
        "               [-1,-1, -1]), dtype=\"int\")\n",
        "\n",
        "k2 = np.array(([0, -1, -1],\n",
        "               [0,  1, -1],\n",
        "               [0, -1, -1]), dtype=\"int\")\n",
        "\n",
        "k3 = np.array(([-1, -1, 0],\n",
        "               [-1,  1, 0],\n",
        "               [-1, -1, 0]), dtype=\"int\")\n",
        "\n",
        "k4 = np.array(([-1, -1, -1],\n",
        "               [-1,  1, -1],\n",
        "               [ 0,  0,  0]), dtype=\"int\")\n",
        "\n",
        "o1 = cv2.morphologyEx(skeleton, cv2.MORPH_HITMISS, k1)\n",
        "o2 = cv2.morphologyEx(skeleton, cv2.MORPH_HITMISS, k2)\n",
        "o3 = cv2.morphologyEx(skeleton, cv2.MORPH_HITMISS, k3)\n",
        "o4 = cv2.morphologyEx(skeleton, cv2.MORPH_HITMISS, k4)\n",
        "out1 = o1 + o2 + o3 + o4\n",
        "\n",
        "k5 = np.array(([-1, -1, -1],\n",
        "               [-1,  1, -1],\n",
        "               [ 0, -1, -1]), dtype=\"int\")\n",
        "\n",
        "k6 = np.array(([-1, -1, -1],\n",
        "               [-1,  1, -1],\n",
        "               [-1, -1,  0]), dtype=\"int\")\n",
        "\n",
        "k7 = np.array(([-1, -1,  0],\n",
        "               [-1,  1, -1],\n",
        "               [-1, -1, -1]), dtype=\"int\")\n",
        "\n",
        "k8 = np.array(([ 0, -1, -1],\n",
        "               [-1,  1, -1],\n",
        "               [-1, -1, -1]), dtype=\"int\")\n",
        "\n",
        "o5 = cv2.morphologyEx(skeleton, cv2.MORPH_HITMISS, k5)\n",
        "o6 = cv2.morphologyEx(skeleton, cv2.MORPH_HITMISS, k6)\n",
        "o7 = cv2.morphologyEx(skeleton, cv2.MORPH_HITMISS, k7)\n",
        "o8 = cv2.morphologyEx(skeleton, cv2.MORPH_HITMISS, k8)\n",
        "out2 = o5 + o6 + o7 + o8\n",
        "\n",
        "\n",
        "out = cv2.add(out1, out2)\n",
        "pts = np.argwhere(out == 255)\n",
        "endpoints = []\n",
        "for pt in pts:\n",
        "    img2 = cv2.circle(img2, (pt[1], pt[0]), 15, (0, 255, 0), -1)\n",
        "    endpoints.append((pt[1], pt[0]))\n",
        "\n",
        "\n",
        "# print(endpoints)\n",
        "# Calculate the Euclidean distance between the endpoints\n",
        "distance_pixels = euclidean(endpoints[0], endpoints[3])\n",
        "\n",
        "image_width_pixels = 256\n",
        "image_height_pixels = 256\n",
        "image_width_inches = 27\n",
        "image_height_inches = 27\n",
        "\n",
        "horizontal_ppi = image_width_inches/image_width_pixels\n",
        "vertical_ppi = image_height_inches/image_height_pixels\n",
        "\n",
        "pixels_per_inch = (horizontal_ppi + vertical_ppi) / 2\n",
        "\n",
        "# Convert distance from pixels to inches\n",
        "distance_inches = distance_pixels*pixels_per_inch\n",
        "\n",
        "print(\"Distance between the circles (in inches):\", distance_inches)\n",
        "\n",
        "# Display the image with circles\n",
        "cv2_imshow(img2)\n",
        "cv2.waitKey(0)\n",
        "cv2.destroyAllWindows()"
      ],
      "metadata": {
        "colab": {
          "base_uri": "https://localhost:8080/",
          "height": 291
        },
        "id": "WzUvuMRxqYsJ",
        "outputId": "0f79a381-081e-47e2-9d5d-f4c23afd99d5"
      },
      "execution_count": null,
      "outputs": [
        {
          "output_type": "stream",
          "name": "stdout",
          "text": [
            "Distance between the circles (in inches): 28.218754866590114\n"
          ]
        },
        {
          "output_type": "display_data",
          "data": {
            "text/plain": [
              "<PIL.Image.Image image mode=RGB size=256x256 at 0x7A2A40235180>"
            ],
            "image/png": "[encoded data removed]"
          },
          "metadata": {}
        }
      ]
    },
    {
      "cell_type": "markdown",
      "source": [
        "Experiment"
      ],
      "metadata": {
        "id": "5D_bYw8Dr7ZG"
      }
    },
    {
      "cell_type": "code",
      "source": [
        "import seaborn as sb\n",
        "custom_params = {'axes.facecolor':'black','axes.grid' : False}\n",
        "sb.set_theme(rc=custom_params)\n",
        "\n",
        "colors = [\"#00008B\", \"w\"]\n",
        "sb.set_palette(sb.color_palette(colors))\n",
        "ax=sb.lmplot(x = \"x\",\n",
        "            y = \"y\",\n",
        "            hue='class',\n",
        "            ci = None,\n",
        "            data = df,\n",
        "            line_kws={\"color\": \"red\"})\n",
        "\n",
        "\n",
        "ax.figure.set_size_inches(5,5)\n",
        "# print(ax.get_lines())\n",
        "ax.set(ylim=(-256,0))\n",
        "ax.set(xlim=(0,255))\n",
        "plt.axis('off')\n",
        "plt.savefig('line_img.png')\n",
        "plt.show()"
      ],
      "metadata": {
        "colab": {
          "base_uri": "https://localhost:8080/",
          "height": 449
        },
        "id": "sOi-lACCobyR",
        "outputId": "c37e014e-9841-4dcc-d574-8b1e263de5c6"
      },
      "execution_count": null,
      "outputs": [
        {
          "output_type": "display_data",
          "data": {
            "text/plain": [
              "<Figure size 500x500 with 1 Axes>"
            ],
            "image/png": "[encoded data removed]"
          },
          "metadata": {}
        }
      ]
    },
    {
      "cell_type": "code",
      "source": [
        "img = cv2.imread('/content/line_img.png')\n",
        "plt.imshow(img, cmap='gray')\n",
        "plt.axis('off')\n",
        "plt.show()"
      ],
      "metadata": {
        "colab": {
          "base_uri": "https://localhost:8080/",
          "height": 406
        },
        "id": "m-DItVrKoyBb",
        "outputId": "0af3b0e2-1833-4017-851a-ee42c1952695"
      },
      "execution_count": null,
      "outputs": [
        {
          "output_type": "display_data",
          "data": {
            "text/plain": [
              "<Figure size 640x480 with 1 Axes>"
            ],
            "image/png": "[encoded data removed]"
          },
          "metadata": {}
        }
      ]
    },
    {
      "cell_type": "code",
      "source": [
        "unique_pixels =np.unique(img)\n",
        "print(unique_pixels)"
      ],
      "metadata": {
        "colab": {
          "base_uri": "https://localhost:8080/"
        },
        "id": "k2ZiV8G5pFX-",
        "outputId": "a8c25406-64f0-4dc4-e376-abfca29b1c2e"
      },
      "execution_count": null,
      "outputs": [
        {
          "output_type": "stream",
          "name": "stdout",
          "text": [
            "[  0   1   2   3   4   5   6   7   8   9  10  11  12  13  14  15  16  17\n",
            "  18  19  20  21  22  23  24  25  26  27  28  29  30  31  32  33  34  35\n",
            "  36  37  38  39  40  41  42  43  44  45  46  47  48  49  50  51  52  53\n",
            "  54  55  56  57  58  59  60  61  62  63  64  65  66  67  68  69  70  71\n",
            "  72  73  74  75  76  77  78  79  80  81  82  83  84  85  86  87  88  89\n",
            "  90  91  92  93  94  95  96  97  98  99 100 101 102 103 104 105 106 107\n",
            " 108 109 110 111 112 113 114 115 116 117 118 119 120 121 122 123 124 125\n",
            " 126 127 128 129 130 131 132 133 134 135 136 137 138 139 140 141 142 143\n",
            " 144 145 146 147 148 149 150 151 152 153 154 155 156 157 158 159 160 161\n",
            " 162 163 164 165 166 167 168 169 170 171 172 173 174 175 176 177 178 179\n",
            " 180 181 182 183 184 185 186 187 188 189 190 191 192 193 194 195 196 197\n",
            " 198 199 200 201 202 203 204 205 206 207 209 210 211 212 213 214 215 216\n",
            " 217 218 219 220 221 222 223 224 225 226 227 228 229 230 231 232 233 234\n",
            " 235 236 237 238 239 240 241 242 243 244 245 246 247 248 249 250 251 252\n",
            " 253 254 255]\n"
          ]
        }
      ]
    },
    {
      "cell_type": "code",
      "source": [
        "img[0,0]"
      ],
      "metadata": {
        "colab": {
          "base_uri": "https://localhost:8080/"
        },
        "id": "s6oaJsMirPTv",
        "outputId": "ddc742b1-07f4-476b-e5dc-4498ca623187"
      },
      "execution_count": null,
      "outputs": [
        {
          "output_type": "execute_result",
          "data": {
            "text/plain": [
              "array([255, 255, 255], dtype=uint8)"
            ]
          },
          "metadata": {},
          "execution_count": 29
        }
      ]
    },
    {
      "cell_type": "code",
      "source": [
        "import seaborn as sb\n",
        "import matplotlib.pyplot as plt\n",
        "import numpy as np\n",
        "\n",
        "# Define the conversion factor from pixels to centimeters\n",
        "image_length_in = 18.4  # Example: Width of the image in centimeters\n",
        "image_length_pixels = 256  # Width of the image in pixels\n",
        "\n",
        "pixels_to_in = image_length_in / image_length_pixels\n",
        " # Adjust this value based on your image or plotting device\n",
        "\n",
        "# Rest of your code...\n",
        "\n",
        "ax = sb.lmplot(x=\"x\",\n",
        "               y=\"y\",\n",
        "               hue='class',\n",
        "               ci=None,\n",
        "               data=df,\n",
        "               line_kws={\"color\": \"red\"})\n",
        "\n",
        "ax.figure.set_size_inches(5, 5)\n",
        "ax.set(ylim=(-256, 0))\n",
        "ax.set(xlim=(0, 255))\n",
        "\n",
        "# Retrieve line data\n",
        "lines = ax.ax.lines[0]\n",
        "x_data = lines.get_xdata()\n",
        "y_data = lines.get_ydata()\n",
        "\n",
        "# Calculate line length in pixels\n",
        "line_length_pixels = np.sum(np.sqrt(np.diff(x_data)**2 + np.diff(y_data)**2))\n",
        "\n",
        "# Convert line length to centimeters\n",
        "line_length_in = line_length_pixels * pixels_to_in\n",
        "\n",
        "# Display line length in centimeters\n",
        "print(\"Line Length (in):\", line_length_in)\n",
        "\n",
        "plt.show()\n"
      ],
      "metadata": {
        "colab": {
          "base_uri": "https://localhost:8080/",
          "height": 530
        },
        "id": "U9KB4x4pQeoQ",
        "outputId": "ed16ff63-e09f-4a65-ebd3-6d6c1c3e0fe1"
      },
      "execution_count": null,
      "outputs": [
        {
          "output_type": "stream",
          "name": "stdout",
          "text": [
            "Line Length (in): 15.149175652067582\n"
          ]
        },
        {
          "output_type": "display_data",
          "data": {
            "text/plain": [
              "<Figure size 500x500 with 1 Axes>"
            ],
            "image/png": "[encoded data removed]"
          },
          "metadata": {}
        }
      ]
    },
    {
      "cell_type": "markdown",
      "source": [
        "exp ends"
      ],
      "metadata": {
        "id": "4F_iGUzbsBbj"
      }
    },
    {
      "cell_type": "markdown",
      "source": [
        "don't run the next cell, run the next to next cell"
      ],
      "metadata": {
        "id": "hOA0SiaVPvLD"
      }
    },
    {
      "cell_type": "code",
      "source": [
        "from google.colab.patches import cv2_imshow\n",
        "images=['/content/output.png']\n",
        "\n",
        "for i, x in enumerate(images):\n",
        "  org_img = cv2.imread(x)\n",
        "  img = cv2.imread(x, cv2.IMREAD_GRAYSCALE)\n",
        "  l,w,h = org_img.shape\n",
        "  c=0\n",
        "  d=0\n",
        "  for i in range(l):\n",
        "    for j in range(w):\n",
        "      if img[i][j]==1:\n",
        "        org_img[i][j][0] = 150\n",
        "        org_img[i][j][1] = 0\n",
        "        org_img[i][j][2] = 0\n",
        "        d+=1\n",
        "      elif img[i][j]==2:\n",
        "        org_img[i][j][0] = 255\n",
        "        org_img[i][j][1] = 255\n",
        "        org_img[i][j][2] = 255\n",
        "        c+=1\n",
        "  #cv2.imwrite('Output3.png',org_img)\n",
        "  cv2_imshow(org_img)\n",
        "  print(c,d)\n",
        "  size = np.size(img)\n",
        "  skel = np.zeros(img.shape,np.uint8)\n",
        "  element = cv2.getStructuringElement(cv2.MORPH_CROSS,(3,3))\n",
        "  done = False\n",
        "  while not done:\n",
        "      eroded = cv2.erode(img,element)\n",
        "      temp = cv2.dilate(eroded,element)\n",
        "      temp = cv2.subtract(img,temp)\n",
        "      skel = cv2.bitwise_or(skel,temp)\n",
        "      img = eroded.copy()\n",
        "      zeros = size - cv2.countNonZero(img)\n",
        "      if zeros == size:\n",
        "          done = True\n",
        "\n",
        "  sk  = cv2.cvtColor(skel,cv2.COLOR_GRAY2RGB)\n",
        "  e=0\n",
        "  f=0\n",
        "\n",
        "  for i in range(l):\n",
        "    for j in range(w):\n",
        "      if skel[i][j]==1:\n",
        "        sk[i][j][0] = 150\n",
        "        sk[i][j][1] = 0\n",
        "        sk[i][j][2] = 0\n",
        "        f+=1\n",
        "      elif skel[i][j]==2:\n",
        "        sk[i][j][0] = 255\n",
        "        sk[i][j][1] = 255\n",
        "        sk[i][j][2] = 255\n",
        "        e+=1\n",
        "\n",
        "  cv2_imshow(sk)\n",
        "  print(e,f,c/e,d/f)\n",
        "  df = plot1(skel)\n",
        "  break\n",
        "\n",
        "df"
      ],
      "metadata": {
        "id": "1N5m5AnCtffu",
        "colab": {
          "base_uri": "https://localhost:8080/",
          "height": 769
        },
        "outputId": "a21ed231-44b3-4a33-94ce-496e81031407"
      },
      "execution_count": null,
      "outputs": [
        {
          "output_type": "display_data",
          "data": {
            "text/plain": [
              "<PIL.Image.Image image mode=RGB size=256x256 at 0x7B16005B34C0>"
            ],
            "image/png": "[encoded data removed]"
          },
          "metadata": {}
        },
        {
          "output_type": "stream",
          "name": "stdout",
          "text": [
            "0 0\n"
          ]
        },
        {
          "output_type": "display_data",
          "data": {
            "text/plain": [
              "<PIL.Image.Image image mode=RGB size=256x256 at 0x7B16B56E7250>"
            ],
            "image/png": "[encoded data removed]"
          },
          "metadata": {}
        },
        {
          "output_type": "error",
          "ename": "ZeroDivisionError",
          "evalue": "ignored",
          "traceback": [
            "\u001b[0;31m---------------------------------------------------------------------------\u001b[0m",
            "\u001b[0;31mZeroDivisionError\u001b[0m                         Traceback (most recent call last)",
            "\u001b[0;32m<ipython-input-23-86a38a0a08f3>\u001b[0m in \u001b[0;36m<cell line: 4>\u001b[0;34m()\u001b[0m\n\u001b[1;32m     55\u001b[0m \u001b[0;34m\u001b[0m\u001b[0m\n\u001b[1;32m     56\u001b[0m   \u001b[0mcv2_imshow\u001b[0m\u001b[0;34m(\u001b[0m\u001b[0msk\u001b[0m\u001b[0;34m)\u001b[0m\u001b[0;34m\u001b[0m\u001b[0;34m\u001b[0m\u001b[0m\n\u001b[0;32m---> 57\u001b[0;31m   \u001b[0mprint\u001b[0m\u001b[0;34m(\u001b[0m\u001b[0me\u001b[0m\u001b[0;34m,\u001b[0m\u001b[0mf\u001b[0m\u001b[0;34m,\u001b[0m\u001b[0mc\u001b[0m\u001b[0;34m/\u001b[0m\u001b[0me\u001b[0m\u001b[0;34m,\u001b[0m\u001b[0md\u001b[0m\u001b[0;34m/\u001b[0m\u001b[0mf\u001b[0m\u001b[0;34m)\u001b[0m\u001b[0;34m\u001b[0m\u001b[0;34m\u001b[0m\u001b[0m\n\u001b[0m\u001b[1;32m     58\u001b[0m   \u001b[0mdf\u001b[0m \u001b[0;34m=\u001b[0m \u001b[0mplot1\u001b[0m\u001b[0;34m(\u001b[0m\u001b[0mskel\u001b[0m\u001b[0;34m)\u001b[0m\u001b[0;34m\u001b[0m\u001b[0;34m\u001b[0m\u001b[0m\n\u001b[1;32m     59\u001b[0m   \u001b[0;32mbreak\u001b[0m\u001b[0;34m\u001b[0m\u001b[0;34m\u001b[0m\u001b[0m\n",
            "\u001b[0;31mZeroDivisionError\u001b[0m: division by zero"
          ]
        }
      ]
    },
    {
      "cell_type": "code",
      "source": [
        "import cv2\n",
        "import matplotlib.pyplot as plt\n",
        "from google.colab.patches import cv2_imshow\n",
        "\n",
        "images = ['/content/output.png']\n",
        "\n",
        "for i, x in enumerate(images):\n",
        "    org_img = cv2.imread(x)\n",
        "    img = cv2.imread(x, cv2.IMREAD_GRAYSCALE)\n",
        "    l, w, h = org_img.shape\n",
        "    c = 0\n",
        "    d = 0\n",
        "    for i in range(l):\n",
        "        for j in range(w):\n",
        "            if img[i][j] == 1:\n",
        "                org_img[i][j][0] = 150\n",
        "                org_img[i][j][1] = 0\n",
        "                org_img[i][j][2] = 0\n",
        "                d += 1\n",
        "            elif img[i][j] == 2:\n",
        "                org_img[i][j][0] = 255\n",
        "                org_img[i][j][1] = 255\n",
        "                org_img[i][j][2] = 255\n",
        "                c += 1\n",
        "    # cv2.imwrite('Output3.png', org_img)\n",
        "    plt.imshow(cv2.cvtColor(org_img, cv2.COLOR_BGR2RGB))\n",
        "    plt.show()\n",
        "    print(c, d)\n",
        "    size = np.size(img)\n",
        "    skel = np.zeros(img.shape, np.uint8)\n",
        "    element = cv2.getStructuringElement(cv2.MORPH_CROSS, (3, 3))\n",
        "    done = False\n",
        "    while not done:\n",
        "        eroded = cv2.erode(img, element)\n",
        "        temp = cv2.dilate(eroded, element)\n",
        "        temp = cv2.subtract(img, temp)\n",
        "        skel = cv2.bitwise_or(skel, temp)\n",
        "        img = eroded.copy()\n",
        "        zeros = size - cv2.countNonZero(img)\n",
        "        if zeros == size:\n",
        "            done = True\n",
        "\n",
        "    sk = cv2.cvtColor(skel, cv2.COLOR_GRAY2RGB)\n",
        "    e = 0\n",
        "    f = 0\n",
        "\n",
        "    for i in range(l):\n",
        "        for j in range(w):\n",
        "            if skel[i][j] == 1:\n",
        "                sk[i][j][0] = 150\n",
        "                sk[i][j][1] = 0\n",
        "                sk[i][j][2] = 0\n",
        "                f += 1\n",
        "            elif skel[i][j] == 2:\n",
        "                sk[i][j][0] = 255\n",
        "                sk[i][j][1] = 255\n",
        "                sk[i][j][2] = 255\n",
        "                e += 1\n",
        "\n",
        "    plt.imshow(cv2.cvtColor(sk, cv2.COLOR_BGR2RGB))\n",
        "    plt.show()\n",
        "    if e != 0:\n",
        "        print(e, f, c / e, d / f)\n",
        "    else:\n",
        "        print(e, f, 'Cannot divide by zero')\n",
        "    df = plot1(skel)\n",
        "    break\n",
        "\n",
        "df\n"
      ],
      "metadata": {
        "colab": {
          "base_uri": "https://localhost:8080/",
          "height": 1000
        },
        "id": "SarfPhPsvO7Z",
        "outputId": "3fb2441f-5f36-4fe5-94dd-30d5fa71f95f"
      },
      "execution_count": null,
      "outputs": [
        {
          "output_type": "display_data",
          "data": {
            "text/plain": [
              "<Figure size 640x480 with 1 Axes>"
            ],
            "image/png": "[encoded data removed]"
          },
          "metadata": {}
        },
        {
          "output_type": "stream",
          "name": "stdout",
          "text": [
            "0 0\n"
          ]
        },
        {
          "output_type": "display_data",
          "data": {
            "text/plain": [
              "<Figure size 640x480 with 1 Axes>"
            ],
            "image/png": "[encoded data removed]"
          },
          "metadata": {}
        },
        {
          "output_type": "stream",
          "name": "stdout",
          "text": [
            "0 0 Cannot divide by zero\n",
            "s1 -12.401359085359298\n"
          ]
        },
        {
          "output_type": "execute_result",
          "data": {
            "text/plain": [
              "       x    y  class\n",
              "0    163    0    255\n",
              "1    163   -2    255\n",
              "2    163   -3    255\n",
              "3    163   -4    255\n",
              "4    164   -4    255\n",
              "..   ...  ...    ...\n",
              "361  134 -252    255\n",
              "362  134 -253    255\n",
              "363  135 -253    255\n",
              "364  135 -254    255\n",
              "365  136 -255    255\n",
              "\n",
              "[366 rows x 3 columns]"
            ],
            "text/html": [
              "\n",
              "\n",
              "  <div id=\"df-40a32eeb-33c6-4387-b323-a70b576c8f5d\">\n",
              "    <div class=\"colab-df-container\">\n",
              "      <div>\n",
              "<style scoped>\n",
              "    .dataframe tbody tr th:only-of-type {\n",
              "        vertical-align: middle;\n",
              "    }\n",
              "\n",
              "    .dataframe tbody tr th {\n",
              "        vertical-align: top;\n",
              "    }\n",
              "\n",
              "    .dataframe thead th {\n",
              "        text-align: right;\n",
              "    }\n",
              "</style>\n",
              "<table border=\"1\" class=\"dataframe\">\n",
              "  <thead>\n",
              "    <tr style=\"text-align: right;\">\n",
              "      <th></th>\n",
              "      <th>x</th>\n",
              "      <th>y</th>\n",
              "      <th>class</th>\n",
              "    </tr>\n",
              "  </thead>\n",
              "  <tbody>\n",
              "    <tr>\n",
              "      <th>0</th>\n",
              "      <td>163</td>\n",
              "      <td>0</td>\n",
              "      <td>255</td>\n",
              "    </tr>\n",
              "    <tr>\n",
              "      <th>1</th>\n",
              "      <td>163</td>\n",
              "      <td>-2</td>\n",
              "      <td>255</td>\n",
              "    </tr>\n",
              "    <tr>\n",
              "      <th>2</th>\n",
              "      <td>163</td>\n",
              "      <td>-3</td>\n",
              "      <td>255</td>\n",
              "    </tr>\n",
              "    <tr>\n",
              "      <th>3</th>\n",
              "      <td>163</td>\n",
              "      <td>-4</td>\n",
              "      <td>255</td>\n",
              "    </tr>\n",
              "    <tr>\n",
              "      <th>4</th>\n",
              "      <td>164</td>\n",
              "      <td>-4</td>\n",
              "      <td>255</td>\n",
              "    </tr>\n",
              "    <tr>\n",
              "      <th>...</th>\n",
              "      <td>...</td>\n",
              "      <td>...</td>\n",
              "      <td>...</td>\n",
              "    </tr>\n",
              "    <tr>\n",
              "      <th>361</th>\n",
              "      <td>134</td>\n",
              "      <td>-252</td>\n",
              "      <td>255</td>\n",
              "    </tr>\n",
              "    <tr>\n",
              "      <th>362</th>\n",
              "      <td>134</td>\n",
              "      <td>-253</td>\n",
              "      <td>255</td>\n",
              "    </tr>\n",
              "    <tr>\n",
              "      <th>363</th>\n",
              "      <td>135</td>\n",
              "      <td>-253</td>\n",
              "      <td>255</td>\n",
              "    </tr>\n",
              "    <tr>\n",
              "      <th>364</th>\n",
              "      <td>135</td>\n",
              "      <td>-254</td>\n",
              "      <td>255</td>\n",
              "    </tr>\n",
              "    <tr>\n",
              "      <th>365</th>\n",
              "      <td>136</td>\n",
              "      <td>-255</td>\n",
              "      <td>255</td>\n",
              "    </tr>\n",
              "  </tbody>\n",
              "</table>\n",
              "<p>366 rows × 3 columns</p>\n",
              "</div>\n",
              "      <button class=\"colab-df-convert\" onclick=\"convertToInteractive('df-40a32eeb-33c6-4387-b323-a70b576c8f5d')\"\n",
              "              title=\"Convert this dataframe to an interactive table.\"\n",
              "              style=\"display:none;\">\n",
              "\n",
              "  <svg xmlns=\"http://www.w3.org/2000/svg\" height=\"24px\"viewBox=\"0 0 24 24\"\n",
              "       width=\"24px\">\n",
              "    <path d=\"M0 0h24v24H0V0z\" fill=\"none\"/>\n",
              "    <path d=\"M18.56 5.44l.94 2.06.94-2.06 2.06-.94-2.06-.94-.94-2.06-.94 2.06-2.06.94zm-11 1L8.5 8.5l.94-2.06 2.06-.94-2.06-.94L8.5 2.5l-.94 2.06-2.06.94zm10 10l.94 2.06.94-2.06 2.06-.94-2.06-.94-.94-2.06-.94 2.06-2.06.94z\"/><path d=\"M17.41 7.96l-1.37-1.37c-.4-.4-.92-.59-1.43-.59-.52 0-1.04.2-1.43.59L10.3 9.45l-7.72 7.72c-.78.78-.78 2.05 0 2.83L4 21.41c.39.39.9.59 1.41.59.51 0 1.02-.2 1.41-.59l7.78-7.78 2.81-2.81c.8-.78.8-2.07 0-2.86zM5.41 20L4 18.59l7.72-7.72 1.47 1.35L5.41 20z\"/>\n",
              "  </svg>\n",
              "      </button>\n",
              "\n",
              "\n",
              "\n",
              "    <div id=\"df-ce45e770-9e78-4860-95b1-c759704ec11f\">\n",
              "      <button class=\"colab-df-quickchart\" onclick=\"quickchart('df-ce45e770-9e78-4860-95b1-c759704ec11f')\"\n",
              "              title=\"Suggest charts.\"\n",
              "              style=\"display:none;\">\n",
              "\n",
              "<svg xmlns=\"http://www.w3.org/2000/svg\" height=\"24px\"viewBox=\"0 0 24 24\"\n",
              "     width=\"24px\">\n",
              "    <g>\n",
              "        <path d=\"M19 3H5c-1.1 0-2 .9-2 2v14c0 1.1.9 2 2 2h14c1.1 0 2-.9 2-2V5c0-1.1-.9-2-2-2zM9 17H7v-7h2v7zm4 0h-2V7h2v10zm4 0h-2v-4h2v4z\"/>\n",
              "    </g>\n",
              "</svg>\n",
              "      </button>\n",
              "    </div>\n",
              "\n",
              "<style>\n",
              "  .colab-df-quickchart {\n",
              "    background-color: #E8F0FE;\n",
              "    border: none;\n",
              "    border-radius: 50%;\n",
              "    cursor: pointer;\n",
              "    display: none;\n",
              "    fill: #1967D2;\n",
              "    height: 32px;\n",
              "    padding: 0 0 0 0;\n",
              "    width: 32px;\n",
              "  }\n",
              "\n",
              "  .colab-df-quickchart:hover {\n",
              "    background-color: #E2EBFA;\n",
              "    box-shadow: 0px 1px 2px rgba(60, 64, 67, 0.3), 0px 1px 3px 1px rgba(60, 64, 67, 0.15);\n",
              "    fill: #174EA6;\n",
              "  }\n",
              "\n",
              "  [theme=dark] .colab-df-quickchart {\n",
              "    background-color: #3B4455;\n",
              "    fill: #D2E3FC;\n",
              "  }\n",
              "\n",
              "  [theme=dark] .colab-df-quickchart:hover {\n",
              "    background-color: #434B5C;\n",
              "    box-shadow: 0px 1px 3px 1px rgba(0, 0, 0, 0.15);\n",
              "    filter: drop-shadow(0px 1px 2px rgba(0, 0, 0, 0.3));\n",
              "    fill: #FFFFFF;\n",
              "  }\n",
              "</style>\n",
              "\n",
              "    <script>\n",
              "      async function quickchart(key) {\n",
              "        const containerElement = document.querySelector('#' + key);\n",
              "        const charts = await google.colab.kernel.invokeFunction(\n",
              "            'suggestCharts', [key], {});\n",
              "      }\n",
              "    </script>\n",
              "\n",
              "      <script>\n",
              "\n",
              "function displayQuickchartButton(domScope) {\n",
              "  let quickchartButtonEl =\n",
              "    domScope.querySelector('#df-ce45e770-9e78-4860-95b1-c759704ec11f button.colab-df-quickchart');\n",
              "  quickchartButtonEl.style.display =\n",
              "    google.colab.kernel.accessAllowed ? 'block' : 'none';\n",
              "}\n",
              "\n",
              "        displayQuickchartButton(document);\n",
              "      </script>\n",
              "      <style>\n",
              "    .colab-df-container {\n",
              "      display:flex;\n",
              "      flex-wrap:wrap;\n",
              "      gap: 12px;\n",
              "    }\n",
              "\n",
              "    .colab-df-convert {\n",
              "      background-color: #E8F0FE;\n",
              "      border: none;\n",
              "      border-radius: 50%;\n",
              "      cursor: pointer;\n",
              "      display: none;\n",
              "      fill: #1967D2;\n",
              "      height: 32px;\n",
              "      padding: 0 0 0 0;\n",
              "      width: 32px;\n",
              "    }\n",
              "\n",
              "    .colab-df-convert:hover {\n",
              "      background-color: #E2EBFA;\n",
              "      box-shadow: 0px 1px 2px rgba(60, 64, 67, 0.3), 0px 1px 3px 1px rgba(60, 64, 67, 0.15);\n",
              "      fill: #174EA6;\n",
              "    }\n",
              "\n",
              "    [theme=dark] .colab-df-convert {\n",
              "      background-color: #3B4455;\n",
              "      fill: #D2E3FC;\n",
              "    }\n",
              "\n",
              "    [theme=dark] .colab-df-convert:hover {\n",
              "      background-color: #434B5C;\n",
              "      box-shadow: 0px 1px 3px 1px rgba(0, 0, 0, 0.15);\n",
              "      filter: drop-shadow(0px 1px 2px rgba(0, 0, 0, 0.3));\n",
              "      fill: #FFFFFF;\n",
              "    }\n",
              "  </style>\n",
              "\n",
              "      <script>\n",
              "        const buttonEl =\n",
              "          document.querySelector('#df-40a32eeb-33c6-4387-b323-a70b576c8f5d button.colab-df-convert');\n",
              "        buttonEl.style.display =\n",
              "          google.colab.kernel.accessAllowed ? 'block' : 'none';\n",
              "\n",
              "        async function convertToInteractive(key) {\n",
              "          const element = document.querySelector('#df-40a32eeb-33c6-4387-b323-a70b576c8f5d');\n",
              "          const dataTable =\n",
              "            await google.colab.kernel.invokeFunction('convertToInteractive',\n",
              "                                                     [key], {});\n",
              "          if (!dataTable) return;\n",
              "\n",
              "          const docLinkHtml = 'Like what you see? Visit the ' +\n",
              "            '<a target=\"_blank\" href=https://colab.research.google.com/notebooks/data_table.ipynb>data table notebook</a>'\n",
              "            + ' to learn more about interactive tables.';\n",
              "          element.innerHTML = '';\n",
              "          dataTable['output_type'] = 'display_data';\n",
              "          await google.colab.output.renderOutput(dataTable, element);\n",
              "          const docLink = document.createElement('div');\n",
              "          docLink.innerHTML = docLinkHtml;\n",
              "          element.appendChild(docLink);\n",
              "        }\n",
              "      </script>\n",
              "    </div>\n",
              "  </div>\n"
            ]
          },
          "metadata": {},
          "execution_count": 20
        }
      ]
    },
    {
      "cell_type": "code",
      "source": [
        "df=pd.read_csv('reg.csv')\n",
        "import seaborn as sb\n",
        "\n",
        "custom_params = {'axes.facecolor':'black',}\n",
        "sb.set_theme(rc=custom_params)\n",
        "sb.set_style({'axes.grid' : False})\n",
        "colors = [\"#00008B\", \"w\"]\n",
        "sb.set_palette(sb.color_palette(colors))\n",
        "ax=sb.lmplot(x = \"x\",\n",
        "            y = \"y\",\n",
        "            hue='class',\n",
        "            ci = None,\n",
        "            data = df,\n",
        "            line_kws={\"color\": \"red\"})\n",
        "\n",
        "ax.figure.set_size_inches(5,5)\n",
        "ax.set(ylim=(-227,0))\n",
        "ax.set(xlim=(0,227))"
      ],
      "metadata": {
        "id": "VNvnjzu3tfj5",
        "colab": {
          "base_uri": "https://localhost:8080/",
          "height": 423
        },
        "outputId": "cc09696b-a9a0-4a70-a6cd-356cca730b0c"
      },
      "execution_count": null,
      "outputs": [
        {
          "output_type": "error",
          "ename": "FileNotFoundError",
          "evalue": "ignored",
          "traceback": [
            "\u001b[0;31m---------------------------------------------------------------------------\u001b[0m",
            "\u001b[0;31mFileNotFoundError\u001b[0m                         Traceback (most recent call last)",
            "\u001b[0;32m<ipython-input-26-e2e7250b3360>\u001b[0m in \u001b[0;36m<cell line: 1>\u001b[0;34m()\u001b[0m\n\u001b[0;32m----> 1\u001b[0;31m \u001b[0mdf\u001b[0m\u001b[0;34m=\u001b[0m\u001b[0mpd\u001b[0m\u001b[0;34m.\u001b[0m\u001b[0mread_csv\u001b[0m\u001b[0;34m(\u001b[0m\u001b[0;34m'reg.csv'\u001b[0m\u001b[0;34m)\u001b[0m\u001b[0;34m\u001b[0m\u001b[0;34m\u001b[0m\u001b[0m\n\u001b[0m\u001b[1;32m      2\u001b[0m \u001b[0;32mimport\u001b[0m \u001b[0mseaborn\u001b[0m \u001b[0;32mas\u001b[0m \u001b[0msb\u001b[0m\u001b[0;34m\u001b[0m\u001b[0;34m\u001b[0m\u001b[0m\n\u001b[1;32m      3\u001b[0m \u001b[0;34m\u001b[0m\u001b[0m\n\u001b[1;32m      4\u001b[0m \u001b[0mcustom_params\u001b[0m \u001b[0;34m=\u001b[0m \u001b[0;34m{\u001b[0m\u001b[0;34m'axes.facecolor'\u001b[0m\u001b[0;34m:\u001b[0m\u001b[0;34m'black'\u001b[0m\u001b[0;34m,\u001b[0m\u001b[0;34m}\u001b[0m\u001b[0;34m\u001b[0m\u001b[0;34m\u001b[0m\u001b[0m\n\u001b[1;32m      5\u001b[0m \u001b[0msb\u001b[0m\u001b[0;34m.\u001b[0m\u001b[0mset_theme\u001b[0m\u001b[0;34m(\u001b[0m\u001b[0mrc\u001b[0m\u001b[0;34m=\u001b[0m\u001b[0mcustom_params\u001b[0m\u001b[0;34m)\u001b[0m\u001b[0;34m\u001b[0m\u001b[0;34m\u001b[0m\u001b[0m\n",
            "\u001b[0;32m/usr/local/lib/python3.10/dist-packages/pandas/util/_decorators.py\u001b[0m in \u001b[0;36mwrapper\u001b[0;34m(*args, **kwargs)\u001b[0m\n\u001b[1;32m    209\u001b[0m                 \u001b[0;32melse\u001b[0m\u001b[0;34m:\u001b[0m\u001b[0;34m\u001b[0m\u001b[0;34m\u001b[0m\u001b[0m\n\u001b[1;32m    210\u001b[0m                     \u001b[0mkwargs\u001b[0m\u001b[0;34m[\u001b[0m\u001b[0mnew_arg_name\u001b[0m\u001b[0;34m]\u001b[0m \u001b[0;34m=\u001b[0m \u001b[0mnew_arg_value\u001b[0m\u001b[0;34m\u001b[0m\u001b[0;34m\u001b[0m\u001b[0m\n\u001b[0;32m--> 211\u001b[0;31m             \u001b[0;32mreturn\u001b[0m \u001b[0mfunc\u001b[0m\u001b[0;34m(\u001b[0m\u001b[0;34m*\u001b[0m\u001b[0margs\u001b[0m\u001b[0;34m,\u001b[0m \u001b[0;34m**\u001b[0m\u001b[0mkwargs\u001b[0m\u001b[0;34m)\u001b[0m\u001b[0;34m\u001b[0m\u001b[0;34m\u001b[0m\u001b[0m\n\u001b[0m\u001b[1;32m    212\u001b[0m \u001b[0;34m\u001b[0m\u001b[0m\n\u001b[1;32m    213\u001b[0m         \u001b[0;32mreturn\u001b[0m \u001b[0mcast\u001b[0m\u001b[0;34m(\u001b[0m\u001b[0mF\u001b[0m\u001b[0;34m,\u001b[0m \u001b[0mwrapper\u001b[0m\u001b[0;34m)\u001b[0m\u001b[0;34m\u001b[0m\u001b[0;34m\u001b[0m\u001b[0m\n",
            "\u001b[0;32m/usr/local/lib/python3.10/dist-packages/pandas/util/_decorators.py\u001b[0m in \u001b[0;36mwrapper\u001b[0;34m(*args, **kwargs)\u001b[0m\n\u001b[1;32m    329\u001b[0m                     \u001b[0mstacklevel\u001b[0m\u001b[0;34m=\u001b[0m\u001b[0mfind_stack_level\u001b[0m\u001b[0;34m(\u001b[0m\u001b[0;34m)\u001b[0m\u001b[0;34m,\u001b[0m\u001b[0;34m\u001b[0m\u001b[0;34m\u001b[0m\u001b[0m\n\u001b[1;32m    330\u001b[0m                 )\n\u001b[0;32m--> 331\u001b[0;31m             \u001b[0;32mreturn\u001b[0m \u001b[0mfunc\u001b[0m\u001b[0;34m(\u001b[0m\u001b[0;34m*\u001b[0m\u001b[0margs\u001b[0m\u001b[0;34m,\u001b[0m \u001b[0;34m**\u001b[0m\u001b[0mkwargs\u001b[0m\u001b[0;34m)\u001b[0m\u001b[0;34m\u001b[0m\u001b[0;34m\u001b[0m\u001b[0m\n\u001b[0m\u001b[1;32m    332\u001b[0m \u001b[0;34m\u001b[0m\u001b[0m\n\u001b[1;32m    333\u001b[0m         \u001b[0;31m# error: \"Callable[[VarArg(Any), KwArg(Any)], Any]\" has no\u001b[0m\u001b[0;34m\u001b[0m\u001b[0;34m\u001b[0m\u001b[0m\n",
            "\u001b[0;32m/usr/local/lib/python3.10/dist-packages/pandas/io/parsers/readers.py\u001b[0m in \u001b[0;36mread_csv\u001b[0;34m(filepath_or_buffer, sep, delimiter, header, names, index_col, usecols, squeeze, prefix, mangle_dupe_cols, dtype, engine, converters, true_values, false_values, skipinitialspace, skiprows, skipfooter, nrows, na_values, keep_default_na, na_filter, verbose, skip_blank_lines, parse_dates, infer_datetime_format, keep_date_col, date_parser, dayfirst, cache_dates, iterator, chunksize, compression, thousands, decimal, lineterminator, quotechar, quoting, doublequote, escapechar, comment, encoding, encoding_errors, dialect, error_bad_lines, warn_bad_lines, on_bad_lines, delim_whitespace, low_memory, memory_map, float_precision, storage_options)\u001b[0m\n\u001b[1;32m    948\u001b[0m     \u001b[0mkwds\u001b[0m\u001b[0;34m.\u001b[0m\u001b[0mupdate\u001b[0m\u001b[0;34m(\u001b[0m\u001b[0mkwds_defaults\u001b[0m\u001b[0;34m)\u001b[0m\u001b[0;34m\u001b[0m\u001b[0;34m\u001b[0m\u001b[0m\n\u001b[1;32m    949\u001b[0m \u001b[0;34m\u001b[0m\u001b[0m\n\u001b[0;32m--> 950\u001b[0;31m     \u001b[0;32mreturn\u001b[0m \u001b[0m_read\u001b[0m\u001b[0;34m(\u001b[0m\u001b[0mfilepath_or_buffer\u001b[0m\u001b[0;34m,\u001b[0m \u001b[0mkwds\u001b[0m\u001b[0;34m)\u001b[0m\u001b[0;34m\u001b[0m\u001b[0;34m\u001b[0m\u001b[0m\n\u001b[0m\u001b[1;32m    951\u001b[0m \u001b[0;34m\u001b[0m\u001b[0m\n\u001b[1;32m    952\u001b[0m \u001b[0;34m\u001b[0m\u001b[0m\n",
            "\u001b[0;32m/usr/local/lib/python3.10/dist-packages/pandas/io/parsers/readers.py\u001b[0m in \u001b[0;36m_read\u001b[0;34m(filepath_or_buffer, kwds)\u001b[0m\n\u001b[1;32m    603\u001b[0m \u001b[0;34m\u001b[0m\u001b[0m\n\u001b[1;32m    604\u001b[0m     \u001b[0;31m# Create the parser.\u001b[0m\u001b[0;34m\u001b[0m\u001b[0;34m\u001b[0m\u001b[0m\n\u001b[0;32m--> 605\u001b[0;31m     \u001b[0mparser\u001b[0m \u001b[0;34m=\u001b[0m \u001b[0mTextFileReader\u001b[0m\u001b[0;34m(\u001b[0m\u001b[0mfilepath_or_buffer\u001b[0m\u001b[0;34m,\u001b[0m \u001b[0;34m**\u001b[0m\u001b[0mkwds\u001b[0m\u001b[0;34m)\u001b[0m\u001b[0;34m\u001b[0m\u001b[0;34m\u001b[0m\u001b[0m\n\u001b[0m\u001b[1;32m    606\u001b[0m \u001b[0;34m\u001b[0m\u001b[0m\n\u001b[1;32m    607\u001b[0m     \u001b[0;32mif\u001b[0m \u001b[0mchunksize\u001b[0m \u001b[0;32mor\u001b[0m \u001b[0miterator\u001b[0m\u001b[0;34m:\u001b[0m\u001b[0;34m\u001b[0m\u001b[0;34m\u001b[0m\u001b[0m\n",
            "\u001b[0;32m/usr/local/lib/python3.10/dist-packages/pandas/io/parsers/readers.py\u001b[0m in \u001b[0;36m__init__\u001b[0;34m(self, f, engine, **kwds)\u001b[0m\n\u001b[1;32m   1440\u001b[0m \u001b[0;34m\u001b[0m\u001b[0m\n\u001b[1;32m   1441\u001b[0m         \u001b[0mself\u001b[0m\u001b[0;34m.\u001b[0m\u001b[0mhandles\u001b[0m\u001b[0;34m:\u001b[0m \u001b[0mIOHandles\u001b[0m \u001b[0;34m|\u001b[0m \u001b[0;32mNone\u001b[0m \u001b[0;34m=\u001b[0m \u001b[0;32mNone\u001b[0m\u001b[0;34m\u001b[0m\u001b[0;34m\u001b[0m\u001b[0m\n\u001b[0;32m-> 1442\u001b[0;31m         \u001b[0mself\u001b[0m\u001b[0;34m.\u001b[0m\u001b[0m_engine\u001b[0m \u001b[0;34m=\u001b[0m \u001b[0mself\u001b[0m\u001b[0;34m.\u001b[0m\u001b[0m_make_engine\u001b[0m\u001b[0;34m(\u001b[0m\u001b[0mf\u001b[0m\u001b[0;34m,\u001b[0m \u001b[0mself\u001b[0m\u001b[0;34m.\u001b[0m\u001b[0mengine\u001b[0m\u001b[0;34m)\u001b[0m\u001b[0;34m\u001b[0m\u001b[0;34m\u001b[0m\u001b[0m\n\u001b[0m\u001b[1;32m   1443\u001b[0m \u001b[0;34m\u001b[0m\u001b[0m\n\u001b[1;32m   1444\u001b[0m     \u001b[0;32mdef\u001b[0m \u001b[0mclose\u001b[0m\u001b[0;34m(\u001b[0m\u001b[0mself\u001b[0m\u001b[0;34m)\u001b[0m \u001b[0;34m->\u001b[0m \u001b[0;32mNone\u001b[0m\u001b[0;34m:\u001b[0m\u001b[0;34m\u001b[0m\u001b[0;34m\u001b[0m\u001b[0m\n",
            "\u001b[0;32m/usr/local/lib/python3.10/dist-packages/pandas/io/parsers/readers.py\u001b[0m in \u001b[0;36m_make_engine\u001b[0;34m(self, f, engine)\u001b[0m\n\u001b[1;32m   1733\u001b[0m                 \u001b[0;32mif\u001b[0m \u001b[0;34m\"b\"\u001b[0m \u001b[0;32mnot\u001b[0m \u001b[0;32min\u001b[0m \u001b[0mmode\u001b[0m\u001b[0;34m:\u001b[0m\u001b[0;34m\u001b[0m\u001b[0;34m\u001b[0m\u001b[0m\n\u001b[1;32m   1734\u001b[0m                     \u001b[0mmode\u001b[0m \u001b[0;34m+=\u001b[0m \u001b[0;34m\"b\"\u001b[0m\u001b[0;34m\u001b[0m\u001b[0;34m\u001b[0m\u001b[0m\n\u001b[0;32m-> 1735\u001b[0;31m             self.handles = get_handle(\n\u001b[0m\u001b[1;32m   1736\u001b[0m                 \u001b[0mf\u001b[0m\u001b[0;34m,\u001b[0m\u001b[0;34m\u001b[0m\u001b[0;34m\u001b[0m\u001b[0m\n\u001b[1;32m   1737\u001b[0m                 \u001b[0mmode\u001b[0m\u001b[0;34m,\u001b[0m\u001b[0;34m\u001b[0m\u001b[0;34m\u001b[0m\u001b[0m\n",
            "\u001b[0;32m/usr/local/lib/python3.10/dist-packages/pandas/io/common.py\u001b[0m in \u001b[0;36mget_handle\u001b[0;34m(path_or_buf, mode, encoding, compression, memory_map, is_text, errors, storage_options)\u001b[0m\n\u001b[1;32m    854\u001b[0m         \u001b[0;32mif\u001b[0m \u001b[0mioargs\u001b[0m\u001b[0;34m.\u001b[0m\u001b[0mencoding\u001b[0m \u001b[0;32mand\u001b[0m \u001b[0;34m\"b\"\u001b[0m \u001b[0;32mnot\u001b[0m \u001b[0;32min\u001b[0m \u001b[0mioargs\u001b[0m\u001b[0;34m.\u001b[0m\u001b[0mmode\u001b[0m\u001b[0;34m:\u001b[0m\u001b[0;34m\u001b[0m\u001b[0;34m\u001b[0m\u001b[0m\n\u001b[1;32m    855\u001b[0m             \u001b[0;31m# Encoding\u001b[0m\u001b[0;34m\u001b[0m\u001b[0;34m\u001b[0m\u001b[0m\n\u001b[0;32m--> 856\u001b[0;31m             handle = open(\n\u001b[0m\u001b[1;32m    857\u001b[0m                 \u001b[0mhandle\u001b[0m\u001b[0;34m,\u001b[0m\u001b[0;34m\u001b[0m\u001b[0;34m\u001b[0m\u001b[0m\n\u001b[1;32m    858\u001b[0m                 \u001b[0mioargs\u001b[0m\u001b[0;34m.\u001b[0m\u001b[0mmode\u001b[0m\u001b[0;34m,\u001b[0m\u001b[0;34m\u001b[0m\u001b[0;34m\u001b[0m\u001b[0m\n",
            "\u001b[0;31mFileNotFoundError\u001b[0m: [Errno 2] No such file or directory: 'reg.csv'"
          ]
        }
      ]
    },
    {
      "cell_type": "markdown",
      "source": [
        "1. erode\n",
        "2. flip(negate)(-img)\n",
        "3. intersection with original image(img 1(before negating) AND img 2(after negating))\n",
        "4. count number of 1 pixels in the resulting image. this will give number pixels of edges. divide this by two to get the length of crack.\n"
      ],
      "metadata": {
        "id": "wSQE2SQlgoN1"
      }
    }
  ],
  "metadata": {
    "accelerator": "GPU",
    "colab": {
      "provenance": []
    },
    "kernelspec": {
      "display_name": "Python 3",
      "language": "python",
      "name": "python3"
    },
    "language_info": {
      "codemirror_mode": {
        "name": "ipython",
        "version": 3
      },
      "file_extension": ".py",
      "mimetype": "text/x-python",
      "name": "python",
      "nbconvert_exporter": "python",
      "pygments_lexer": "ipython3",
      "version": "3.8.2"
    }
  },
  "nbformat": 4,
  "nbformat_minor": 0
}